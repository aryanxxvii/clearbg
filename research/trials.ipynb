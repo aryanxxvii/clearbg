{
 "cells": [
  {
   "cell_type": "code",
   "execution_count": 1,
   "metadata": {},
   "outputs": [],
   "source": [
    "import os\n",
    "import requests\n",
    "import zipfile"
   ]
  },
  {
   "cell_type": "code",
   "execution_count": 7,
   "metadata": {},
   "outputs": [],
   "source": [
    "testurl = \"http://saliencydetection.net/duts/download/DUTS-TE.zip\"\n",
    "# Directory to save the downloaded file\n",
    "download_dir = \"./data\"\n",
    "# Path for the downloaded zip file\n",
    "zip_path = os.path.join(download_dir, \"DUTS-TE.zip\")"
   ]
  },
  {
   "cell_type": "code",
   "execution_count": 8,
   "metadata": {},
   "outputs": [],
   "source": [
    "url = testurl"
   ]
  },
  {
   "cell_type": "code",
   "execution_count": 3,
   "metadata": {},
   "outputs": [],
   "source": [
    "os.makedirs(download_dir, exist_ok=True)"
   ]
  },
  {
   "cell_type": "code",
   "execution_count": 4,
   "metadata": {},
   "outputs": [
    {
     "name": "stdout",
     "output_type": "stream",
     "text": [
      "Downloaded: ./data\\DUTS-TE.zip\n"
     ]
    }
   ],
   "source": [
    "response = requests.get(url)\n",
    "with open(zip_path, 'wb') as f:\n",
    "    f.write(response.content)\n",
    "\n",
    "print(f\"Downloaded: {zip_path}\")"
   ]
  },
  {
   "cell_type": "code",
   "execution_count": 5,
   "metadata": {},
   "outputs": [
    {
     "name": "stdout",
     "output_type": "stream",
     "text": [
      "Extracted to: ./data\n"
     ]
    }
   ],
   "source": [
    "with zipfile.ZipFile(zip_path, 'r') as zip_ref:\n",
    "    zip_ref.extractall(download_dir)\n",
    "\n",
    "print(f\"Extracted to: {download_dir}\")"
   ]
  },
  {
   "cell_type": "code",
   "execution_count": 12,
   "metadata": {},
   "outputs": [],
   "source": [
    "from clearbg.utils.common import read_yaml, create_directories\n",
    "from clearbg.constants import *\n"
   ]
  },
  {
   "cell_type": "code",
   "execution_count": 13,
   "metadata": {},
   "outputs": [
    {
     "name": "stdout",
     "output_type": "stream",
     "text": [
      "C:\\dev\\ml\\projects\\MLOPS_Project\\config\\config.yaml\n"
     ]
    }
   ],
   "source": [
    "print(CONFIG_FILE_PATH.absolute())"
   ]
  },
  {
   "cell_type": "code",
   "execution_count": 14,
   "metadata": {},
   "outputs": [],
   "source": [
    "from dataclasses import dataclass\n",
    "from pathlib import Path\n",
    "\n",
    "@dataclass(frozen=True)\n",
    "class DataIngestionConfig():\n",
    "    root_dir: Path\n",
    "    train_source_url: str\n",
    "    test_source_url: str\n",
    "    train_local_zipped_path: Path\n",
    "    test_local_zipped_path: Path"
   ]
  },
  {
   "cell_type": "code",
   "execution_count": 15,
   "metadata": {},
   "outputs": [],
   "source": [
    "class ConfigurationManager:\n",
    "    def __init__(\n",
    "        self,\n",
    "        config_filepath = CONFIG_FILE_PATH,\n",
    "        params_filepath = PARAMS_FILE_PATH,\n",
    "    ):\n",
    "        self.config = read_yaml(config_filepath)\n",
    "        self.params = read_yaml(params_filepath)\n",
    "\n",
    "        create_directories([self.config.artifacts_root])\n",
    "\n",
    "    def get_data_ingestion_config(self) -> DataIngestionConfig:\n",
    "        config = self.config.data_ingestion\n",
    "        \n",
    "        # Resolve paths relative to PROJECT_ROOT\n",
    "        root_dir = (PROJECT_ROOT / config.root_dir).resolve()\n",
    "        train_local_zipped_path = (PROJECT_ROOT / config.train_local_zipped_path).resolve()\n",
    "        test_local_zipped_path = (PROJECT_ROOT / config.test_local_zipped_path).resolve()\n",
    "        \n",
    "        create_directories([root_dir])\n",
    "\n",
    "        data_ingestion_config = DataIngestionConfig(\n",
    "            root_dir=root_dir,\n",
    "            train_source_url=config.train_source_url,\n",
    "            test_source_url=config.test_source_url,\n",
    "            train_local_zipped_path=train_local_zipped_path,\n",
    "            test_local_zipped_path=test_local_zipped_path\n",
    "        )\n",
    "        \n",
    "        return data_ingestion_config\n"
   ]
  },
  {
   "cell_type": "code",
   "execution_count": 16,
   "metadata": {},
   "outputs": [
    {
     "name": "stdout",
     "output_type": "stream",
     "text": [
      "[2024-10-10 21:34:43,209: INFO: common: yaml file: C:\\dev\\ml\\projects\\MLOPS_Project\\config\\config.yaml loaded successfully]\n",
      "[2024-10-10 21:34:43,210: INFO: common: yaml file: C:\\dev\\ml\\projects\\MLOPS_Project\\params.yaml loaded successfully]\n",
      "[2024-10-10 21:34:43,211: INFO: common: created directory at: artifacts]\n",
      "[2024-10-10 21:34:43,211: INFO: common: created directory at: artifacts/data_ingestion]\n"
     ]
    }
   ],
   "source": [
    "config = ConfigurationManager()\n",
    "data_ingestion_config = config.get_data_ingestion_config()"
   ]
  },
  {
   "cell_type": "code",
   "execution_count": 20,
   "metadata": {},
   "outputs": [],
   "source": [
    "p = Path(data_ingestion_config.root_dir)"
   ]
  },
  {
   "cell_type": "code",
   "execution_count": 21,
   "metadata": {},
   "outputs": [
    {
     "data": {
      "text/plain": [
       "WindowsPath('C:/dev/ml/projects/MLOPS_Project/research/artifacts/data_ingestion')"
      ]
     },
     "execution_count": 21,
     "metadata": {},
     "output_type": "execute_result"
    }
   ],
   "source": [
    "p.resolve()"
   ]
  },
  {
   "cell_type": "code",
   "execution_count": null,
   "metadata": {},
   "outputs": [],
   "source": []
  }
 ],
 "metadata": {
  "kernelspec": {
   "display_name": "mlopsproj",
   "language": "python",
   "name": "python3"
  },
  "language_info": {
   "codemirror_mode": {
    "name": "ipython",
    "version": 3
   },
   "file_extension": ".py",
   "mimetype": "text/x-python",
   "name": "python",
   "nbconvert_exporter": "python",
   "pygments_lexer": "ipython3",
   "version": "3.12.7"
  }
 },
 "nbformat": 4,
 "nbformat_minor": 2
}
